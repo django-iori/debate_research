{
 "cells": [
  {
   "cell_type": "code",
   "execution_count": 3,
   "id": "f90d30ea",
   "metadata": {},
   "outputs": [
    {
     "name": "stdout",
     "output_type": "stream",
     "text": [
      "211\n",
      "92\n",
      "12\n"
     ]
    }
   ],
   "source": [
    "import json\n",
    "import csv\n",
    "\n",
    "with open('debate.json', 'r',  encoding='utf-8') as fp:\n",
    "    data = json.load(fp)\n",
    "    \n",
    "    \n",
    "text_jus = []    \n",
    "#justificationの点数ごとに場合分け\n",
    "text_jus_0 = []\n",
    "text_jus_1 = []\n",
    "text_jus_2 = []\n",
    "\n",
    "text_rel = []\n",
    "#relevanceの点数ごとに場合分け\n",
    "text_rel_0 = []\n",
    "text_rel_1 = []\n",
    "text_rel_2 = []\n",
    "\n",
    "for item in data:\n",
    "    if item[\"score\"][\"justification\"][0] == \"3-5点\":\n",
    "        text_jus_0.append(item[\"lo_speech\"])\n",
    "    elif item[\"score\"][\"justification\"][0] == \"6点\":\n",
    "        text_jus_1.append(item[\"lo_speech\"])\n",
    "    elif item[\"score\"][\"justification\"][0] == \"7-10点\":\n",
    "        text_jus_2.append(item[\"lo_speech\"])\n",
    "\n",
    "for item in data:\n",
    "    if item[\"score\"][\"relevance\"][0] == \"3-5点\":\n",
    "        text_rel_0.append(item[\"lo_speech\"])\n",
    "    elif item[\"score\"][\"relevance\"][0] == \"6点\":\n",
    "        text_rel_1.append(item[\"lo_speech\"])\n",
    "    elif item[\"score\"][\"relevance\"][0] == \"7-10点\":\n",
    "        text_rel_2.append(item[\"lo_speech\"])\n",
    "\n",
    "print(len(text_jus_0))\n",
    "print(len(text_jus_1))\n",
    "print(len(text_jus_2))\n",
    "\n",
    "text_jus.append(text_jus_0)\n",
    "text_jus.append(text_jus_1) \n",
    "text_jus.append(text_jus_2)\n",
    "\n",
    "text_rel.append(text_rel_0)\n",
    "text_rel.append(text_rel_1)\n",
    "text_rel.append(text_rel_2)\n",
    "\n"
   ]
  },
  {
   "cell_type": "code",
   "execution_count": 11,
   "id": "289e2817",
   "metadata": {},
   "outputs": [],
   "source": [
    "#Justification\n",
    "for i, v in enumerate(text_jus_0):\n",
    "    f = open('text/justification/0/{}.txt'.format(i), 'w', encoding='utf-8')\n",
    "    f.write(v)\n",
    "    f.close\n",
    "\n",
    "for i, v in enumerate(text_jus_1):\n",
    "    f = open('text/justification/1/{}.txt'.format(i), 'w', encoding='utf-8')\n",
    "    f.write(v)\n",
    "    f.close\n",
    "\n",
    "for i, v in enumerate(text_jus_2):\n",
    "    f = open('text/justification/2/{}.txt'.format(i), 'w', encoding='utf-8')\n",
    "    f.write(v)\n",
    "    f.close\n",
    "\n",
    "#Relevance\n",
    "for i, v in enumerate(text_rel_0):\n",
    "    f = open('text/relevance/0/{}.txt'.format(i), 'w', encoding='utf-8')\n",
    "    f.write(v)\n",
    "    f.close\n",
    "\n",
    "for i, v in enumerate(text_rel_1):\n",
    "    f = open('text/relevance/1/{}.txt'.format(i), 'w', encoding='utf-8')\n",
    "    f.write(v)\n",
    "    f.close\n",
    "\n",
    "for i, v in enumerate(text_rel_2):\n",
    "    f = open('text/relevance/2/{}.txt'.format(i), 'w', encoding='utf-8')\n",
    "    f.write(v)\n",
    "    f.close\n"
   ]
  },
  {
   "cell_type": "code",
   "execution_count": 7,
   "id": "221c04a5",
   "metadata": {},
   "outputs": [
    {
     "name": "stdout",
     "output_type": "stream",
     "text": [
      "2\tThey said that the death penalty brutalizes society due to the chance of wrongful conviction of an innocent person. However, there is little evidence to suggest that any truly innocent persons have been put to death in recent times -- at least since the beginning of the 20th century in the US. When capital punishment sentences are overturned on appeal, the typical result is conversion to a life sentence. Only in the rarest cases does an appeal result in a death penalty case being reversed, with the conviction tossed out. Furthermore, in such cases, the reason is typically a lack of overwhelming evidence or a legal technicality; for instance, juror or prosecutorial misconduct may be cited. In other words, winning an appeal doesn't mean the accused was actually innocent. In order to get a death sentence, a unanimous jury decision is needed, along with strong proof such as DNA evidence. Thus, wrongful convictions of the innocent are very rare in capital punishment cases in modern times. \n",
      "\n"
     ]
    }
   ],
   "source": [
    "eda_data_jus = []\n",
    "for label, item in enumerate(text_jus):\n",
    "    for text in item:\n",
    "        text_line = str(label) + \"\\t\" + text + \"\\n\"\n",
    "        eda_data_jus.append(text_line)\n",
    "    \n",
    "print(eda_data_jus[310])"
   ]
  },
  {
   "cell_type": "code",
   "execution_count": 8,
   "id": "12251ea9",
   "metadata": {},
   "outputs": [
    {
     "data": {
      "text/plain": [
       "'C:\\\\Users\\\\owner\\\\debate_research'"
      ]
     },
     "execution_count": 8,
     "metadata": {},
     "output_type": "execute_result"
    }
   ],
   "source": []
  },
  {
   "cell_type": "code",
   "execution_count": 12,
   "id": "54544055",
   "metadata": {},
   "outputs": [],
   "source": [
    "f = open('./eda_nlp/data/debate_jus.txt', 'w', encoding='utf-8')\n",
    "f.writelines(eda_data_jus)\n",
    "f.close()"
   ]
  }
 ],
 "metadata": {
  "kernelspec": {
   "display_name": "Python 3",
   "language": "python",
   "name": "python3"
  },
  "language_info": {
   "codemirror_mode": {
    "name": "ipython",
    "version": 3
   },
   "file_extension": ".py",
   "mimetype": "text/x-python",
   "name": "python",
   "nbconvert_exporter": "python",
   "pygments_lexer": "ipython3",
   "version": "3.8.8"
  }
 },
 "nbformat": 4,
 "nbformat_minor": 5
}
